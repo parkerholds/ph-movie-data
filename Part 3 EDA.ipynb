{
 "cells": [
  {
   "cell_type": "code",
   "execution_count": 80,
   "id": "70abc28b-9d90-4fc2-ba6f-80ef73591423",
   "metadata": {},
   "outputs": [],
   "source": [
    "import pandas as pd\n",
    "import numpy as np\n",
    "import seaborn as sns\n",
    "import matplotlib.pyplot as plt\n",
    "from sqlalchemy import create_engine\n",
    "from urllib.parse import quote_plus\n",
    "from sqlalchemy import text\n",
    "import json"
   ]
  },
  {
   "cell_type": "code",
   "execution_count": 81,
   "id": "d832aa29-0a67-45b3-8849-c7ebafac16b2",
   "metadata": {},
   "outputs": [
    {
     "data": {
      "text/plain": [
       "['MovieData\\\\final_tmdb_data_[2001].csv.gz',\n",
       " 'MovieData\\\\final_tmdb_data_[2002].csv.gz']"
      ]
     },
     "execution_count": 81,
     "metadata": {},
     "output_type": "execute_result"
    }
   ],
   "source": [
    "import glob\n",
    "# Use glob to get all filepaths that match the pattern (*=wildcard)\n",
    "tmdb_files = sorted(glob.glob(\"MovieData/final_tmdb_data_*.csv.gz\"))\n",
    "tmdb_files\n"
   ]
  },
  {
   "cell_type": "code",
   "execution_count": 82,
   "id": "3e312c89-fff0-486d-a8ef-4e5c191f3d39",
   "metadata": {},
   "outputs": [
    {
     "data": {
      "text/html": [
       "<div>\n",
       "<style scoped>\n",
       "    .dataframe tbody tr th:only-of-type {\n",
       "        vertical-align: middle;\n",
       "    }\n",
       "\n",
       "    .dataframe tbody tr th {\n",
       "        vertical-align: top;\n",
       "    }\n",
       "\n",
       "    .dataframe thead th {\n",
       "        text-align: right;\n",
       "    }\n",
       "</style>\n",
       "<table border=\"1\" class=\"dataframe\">\n",
       "  <thead>\n",
       "    <tr style=\"text-align: right;\">\n",
       "      <th></th>\n",
       "      <th>imdb_id</th>\n",
       "      <th>adult</th>\n",
       "      <th>backdrop_path</th>\n",
       "      <th>belongs_to_collection</th>\n",
       "      <th>budget</th>\n",
       "      <th>genres</th>\n",
       "      <th>homepage</th>\n",
       "      <th>id</th>\n",
       "      <th>original_language</th>\n",
       "      <th>original_title</th>\n",
       "      <th>...</th>\n",
       "      <th>revenue</th>\n",
       "      <th>runtime</th>\n",
       "      <th>spoken_languages</th>\n",
       "      <th>status</th>\n",
       "      <th>tagline</th>\n",
       "      <th>title</th>\n",
       "      <th>video</th>\n",
       "      <th>vote_average</th>\n",
       "      <th>vote_count</th>\n",
       "      <th>certification</th>\n",
       "    </tr>\n",
       "  </thead>\n",
       "  <tbody>\n",
       "    <tr>\n",
       "      <th>0</th>\n",
       "      <td>0</td>\n",
       "      <td>NaN</td>\n",
       "      <td>NaN</td>\n",
       "      <td>NaN</td>\n",
       "      <td>NaN</td>\n",
       "      <td>NaN</td>\n",
       "      <td>NaN</td>\n",
       "      <td>NaN</td>\n",
       "      <td>NaN</td>\n",
       "      <td>NaN</td>\n",
       "      <td>...</td>\n",
       "      <td>NaN</td>\n",
       "      <td>NaN</td>\n",
       "      <td>NaN</td>\n",
       "      <td>NaN</td>\n",
       "      <td>NaN</td>\n",
       "      <td>NaN</td>\n",
       "      <td>NaN</td>\n",
       "      <td>NaN</td>\n",
       "      <td>NaN</td>\n",
       "      <td>NaN</td>\n",
       "    </tr>\n",
       "    <tr>\n",
       "      <th>1</th>\n",
       "      <td>tt0096056</td>\n",
       "      <td>0.0</td>\n",
       "      <td>/95U3MUDXu4xSCmVLtWgargRipDi.jpg</td>\n",
       "      <td>NaN</td>\n",
       "      <td>0.0</td>\n",
       "      <td>[{'id': 18, 'name': 'Drama'}]</td>\n",
       "      <td>NaN</td>\n",
       "      <td>109809.0</td>\n",
       "      <td>en</td>\n",
       "      <td>Crime and Punishment</td>\n",
       "      <td>...</td>\n",
       "      <td>0.0</td>\n",
       "      <td>126.0</td>\n",
       "      <td>[{'english_name': 'English', 'iso_639_1': 'en'...</td>\n",
       "      <td>Released</td>\n",
       "      <td>NaN</td>\n",
       "      <td>Crime and Punishment</td>\n",
       "      <td>0.0</td>\n",
       "      <td>5.333</td>\n",
       "      <td>12.0</td>\n",
       "      <td>NaN</td>\n",
       "    </tr>\n",
       "    <tr>\n",
       "      <th>2</th>\n",
       "      <td>tt0118926</td>\n",
       "      <td>0.0</td>\n",
       "      <td>/qR3Dk3ctnrrxkAI6I472RhamIbu.jpg</td>\n",
       "      <td>NaN</td>\n",
       "      <td>0.0</td>\n",
       "      <td>[{'id': 80, 'name': 'Crime'}, {'id': 18, 'name...</td>\n",
       "      <td>NaN</td>\n",
       "      <td>20689.0</td>\n",
       "      <td>en</td>\n",
       "      <td>The Dancer Upstairs</td>\n",
       "      <td>...</td>\n",
       "      <td>5227348.0</td>\n",
       "      <td>132.0</td>\n",
       "      <td>[{'english_name': 'English', 'iso_639_1': 'en'...</td>\n",
       "      <td>Released</td>\n",
       "      <td>An honest man caught in a world of intrigue, p...</td>\n",
       "      <td>The Dancer Upstairs</td>\n",
       "      <td>0.0</td>\n",
       "      <td>6.196</td>\n",
       "      <td>51.0</td>\n",
       "      <td>R</td>\n",
       "    </tr>\n",
       "    <tr>\n",
       "      <th>3</th>\n",
       "      <td>tt0119980</td>\n",
       "      <td>0.0</td>\n",
       "      <td>NaN</td>\n",
       "      <td>NaN</td>\n",
       "      <td>0.0</td>\n",
       "      <td>[{'id': 80, 'name': 'Crime'}, {'id': 18, 'name...</td>\n",
       "      <td>NaN</td>\n",
       "      <td>563364.0</td>\n",
       "      <td>en</td>\n",
       "      <td>Random Shooting in LA</td>\n",
       "      <td>...</td>\n",
       "      <td>0.0</td>\n",
       "      <td>91.0</td>\n",
       "      <td>[{'english_name': 'English', 'iso_639_1': 'en'...</td>\n",
       "      <td>Released</td>\n",
       "      <td>NaN</td>\n",
       "      <td>Random Shooting in LA</td>\n",
       "      <td>0.0</td>\n",
       "      <td>0.000</td>\n",
       "      <td>0.0</td>\n",
       "      <td>NaN</td>\n",
       "    </tr>\n",
       "    <tr>\n",
       "      <th>4</th>\n",
       "      <td>tt0120679</td>\n",
       "      <td>0.0</td>\n",
       "      <td>/s04Ds4xbJU7DzeGVyamccH4LoxF.jpg</td>\n",
       "      <td>NaN</td>\n",
       "      <td>12000000.0</td>\n",
       "      <td>[{'id': 18, 'name': 'Drama'}, {'id': 10749, 'n...</td>\n",
       "      <td>https://www.miramax.com/movie/frida</td>\n",
       "      <td>1360.0</td>\n",
       "      <td>en</td>\n",
       "      <td>Frida</td>\n",
       "      <td>...</td>\n",
       "      <td>56298474.0</td>\n",
       "      <td>123.0</td>\n",
       "      <td>[{'english_name': 'French', 'iso_639_1': 'fr',...</td>\n",
       "      <td>Released</td>\n",
       "      <td>Prepare to be seduced.</td>\n",
       "      <td>Frida</td>\n",
       "      <td>0.0</td>\n",
       "      <td>7.428</td>\n",
       "      <td>1905.0</td>\n",
       "      <td>R</td>\n",
       "    </tr>\n",
       "  </tbody>\n",
       "</table>\n",
       "<p>5 rows × 26 columns</p>\n",
       "</div>"
      ],
      "text/plain": [
       "     imdb_id  adult                     backdrop_path belongs_to_collection  \\\n",
       "0          0    NaN                               NaN                   NaN   \n",
       "1  tt0096056    0.0  /95U3MUDXu4xSCmVLtWgargRipDi.jpg                   NaN   \n",
       "2  tt0118926    0.0  /qR3Dk3ctnrrxkAI6I472RhamIbu.jpg                   NaN   \n",
       "3  tt0119980    0.0                               NaN                   NaN   \n",
       "4  tt0120679    0.0  /s04Ds4xbJU7DzeGVyamccH4LoxF.jpg                   NaN   \n",
       "\n",
       "       budget                                             genres  \\\n",
       "0         NaN                                                NaN   \n",
       "1         0.0                      [{'id': 18, 'name': 'Drama'}]   \n",
       "2         0.0  [{'id': 80, 'name': 'Crime'}, {'id': 18, 'name...   \n",
       "3         0.0  [{'id': 80, 'name': 'Crime'}, {'id': 18, 'name...   \n",
       "4  12000000.0  [{'id': 18, 'name': 'Drama'}, {'id': 10749, 'n...   \n",
       "\n",
       "                              homepage        id original_language  \\\n",
       "0                                  NaN       NaN               NaN   \n",
       "1                                  NaN  109809.0                en   \n",
       "2                                  NaN   20689.0                en   \n",
       "3                                  NaN  563364.0                en   \n",
       "4  https://www.miramax.com/movie/frida    1360.0                en   \n",
       "\n",
       "          original_title  ...     revenue  runtime  \\\n",
       "0                    NaN  ...         NaN      NaN   \n",
       "1   Crime and Punishment  ...         0.0    126.0   \n",
       "2    The Dancer Upstairs  ...   5227348.0    132.0   \n",
       "3  Random Shooting in LA  ...         0.0     91.0   \n",
       "4                  Frida  ...  56298474.0    123.0   \n",
       "\n",
       "                                    spoken_languages    status  \\\n",
       "0                                                NaN       NaN   \n",
       "1  [{'english_name': 'English', 'iso_639_1': 'en'...  Released   \n",
       "2  [{'english_name': 'English', 'iso_639_1': 'en'...  Released   \n",
       "3  [{'english_name': 'English', 'iso_639_1': 'en'...  Released   \n",
       "4  [{'english_name': 'French', 'iso_639_1': 'fr',...  Released   \n",
       "\n",
       "                                             tagline                  title  \\\n",
       "0                                                NaN                    NaN   \n",
       "1                                                NaN   Crime and Punishment   \n",
       "2  An honest man caught in a world of intrigue, p...    The Dancer Upstairs   \n",
       "3                                                NaN  Random Shooting in LA   \n",
       "4                             Prepare to be seduced.                  Frida   \n",
       "\n",
       "   video  vote_average vote_count certification  \n",
       "0    NaN           NaN        NaN           NaN  \n",
       "1    0.0         5.333       12.0           NaN  \n",
       "2    0.0         6.196       51.0             R  \n",
       "3    0.0         0.000        0.0           NaN  \n",
       "4    0.0         7.428     1905.0             R  \n",
       "\n",
       "[5 rows x 26 columns]"
      ]
     },
     "execution_count": 82,
     "metadata": {},
     "output_type": "execute_result"
    }
   ],
   "source": [
    "# Use read_csv in a list comprehension and combine with concat to load all files\n",
    "df = pd.concat([pd.read_csv(f) for f in tmdb_files] )\n",
    "df.head()\n"
   ]
  },
  {
   "cell_type": "code",
   "execution_count": 83,
   "id": "f363cd57-dccb-437c-8bfe-fd2471543f00",
   "metadata": {},
   "outputs": [
    {
     "data": {
      "image/png": "[encoded data removed]",
      "text/plain": [
       "<Figure size 640x480 with 1 Axes>"
      ]
     },
     "metadata": {},
     "output_type": "display_data"
    }
   ],
   "source": [
    "ax = df['revenue'].hist(bins=10)\n",
    "ax.ticklabel_format(style='plain')\n",
    "ax.tick_params(axis='x', rotation=30)\n",
    "ax.set_xlabel('Revenue')\n",
    "ax.set_ylabel('Count')\n",
    "ax.set_title('Distribution of Revenue');"
   ]
  },
  {
   "cell_type": "markdown",
   "id": "dd00f12d-6e62-428e-8bf1-dacc16e0ddef",
   "metadata": {},
   "source": [
    "- From this we see there are almost 5,000 titles without revenue"
   ]
  },
  {
   "cell_type": "markdown",
   "id": "24d7cdc0-21da-4bfe-9b6a-7eb3a0608fc8",
   "metadata": {},
   "source": [
    "## Remove Titles without revenue"
   ]
  },
  {
   "cell_type": "code",
   "execution_count": 84,
   "id": "b05cf254-7f2d-4d6f-b8ef-b17b59ec6016",
   "metadata": {},
   "outputs": [],
   "source": [
    "no_revenue = df['revenue'] == 0"
   ]
  },
  {
   "cell_type": "code",
   "execution_count": 85,
   "id": "01c27aa8-6369-4baf-8ca2-16c71d9dd9cd",
   "metadata": {},
   "outputs": [
    {
     "data": {
      "text/plain": [
       "True     4056\n",
       "False    1106\n",
       "Name: revenue, dtype: int64"
      ]
     },
     "execution_count": 85,
     "metadata": {},
     "output_type": "execute_result"
    }
   ],
   "source": [
    "no_revenue.value_counts()"
   ]
  },
  {
   "cell_type": "markdown",
   "id": "70e64cb6-51e1-46d2-b949-099e717dd9f2",
   "metadata": {},
   "source": [
    "- 4,056 Titles without revenue will be removed for further EDA"
   ]
  },
  {
   "cell_type": "code",
   "execution_count": 86,
   "id": "8ee6d379-3bb6-4236-9901-aca876f2a16d",
   "metadata": {},
   "outputs": [],
   "source": [
    "no_budget = df['budget'] == 0"
   ]
  },
  {
   "cell_type": "code",
   "execution_count": 87,
   "id": "d80233fc-5366-45ec-8b8e-0381be4dff73",
   "metadata": {},
   "outputs": [
    {
     "data": {
      "text/plain": [
       "True     3892\n",
       "False    1270\n",
       "Name: budget, dtype: int64"
      ]
     },
     "execution_count": 87,
     "metadata": {},
     "output_type": "execute_result"
    }
   ],
   "source": [
    "no_budget.value_counts()"
   ]
  },
  {
   "cell_type": "markdown",
   "id": "612d6d0b-f4fb-4bb5-a89d-707890545611",
   "metadata": {},
   "source": [
    "- 3,892 Titles without budget will be removed for further EDA"
   ]
  },
  {
   "cell_type": "code",
   "execution_count": 88,
   "id": "5779a187-728b-4aa6-bc5d-4dddced8e56e",
   "metadata": {},
   "outputs": [],
   "source": [
    "no_financial = no_revenue + no_budget"
   ]
  },
  {
   "cell_type": "code",
   "execution_count": 89,
   "id": "85fbbddb-63e3-406c-8a4c-83ddabbf67b1",
   "metadata": {},
   "outputs": [
    {
     "data": {
      "text/plain": [
       "True     4304\n",
       "False     858\n",
       "dtype: int64"
      ]
     },
     "execution_count": 89,
     "metadata": {},
     "output_type": "execute_result"
    }
   ],
   "source": [
    "no_financial.value_counts()"
   ]
  },
  {
   "cell_type": "code",
   "execution_count": 90,
   "id": "1b9224de-39f6-4191-84c4-5c05e6d94f0b",
   "metadata": {},
   "outputs": [],
   "source": [
    "df = df[~no_financial]"
   ]
  },
  {
   "cell_type": "markdown",
   "id": "4ff19de1-2feb-4383-8594-d29ffcea69a8",
   "metadata": {},
   "source": [
    "## How many movies are there in each of the certification categories (G/PG/PG-13/R)?"
   ]
  },
  {
   "cell_type": "code",
   "execution_count": 95,
   "id": "78efbd5e-32f3-40b6-a39f-68c4a520e29b",
   "metadata": {},
   "outputs": [
    {
     "data": {
      "image/png": "[encoded data removed]",
      "text/plain": [
       "<Figure size 640x480 with 1 Axes>"
      ]
     },
     "metadata": {},
     "output_type": "display_data"
    }
   ],
   "source": [
    "ax = sns.countplot(data=df, x='certification')\n",
    "ax.set_title('Number of Movies by Category');"
   ]
  },
  {
   "cell_type": "markdown",
   "id": "3f3901a5-140f-4253-a5ff-eb8e46a58d01",
   "metadata": {},
   "source": [
    "## What is the average revenue per certification category?"
   ]
  },
  {
   "cell_type": "code",
   "execution_count": 124,
   "id": "c943de4c-9250-494c-b908-87452ad17aaf",
   "metadata": {},
   "outputs": [
    {
     "data": {
      "text/plain": [
       "certification\n",
       "G        108.695069\n",
       "NR         2.216595\n",
       "PG       220.426659\n",
       "PG-13    114.070214\n",
       "R         40.459033\n",
       "Name: revenue, dtype: float64"
      ]
     },
     "execution_count": 124,
     "metadata": {},
     "output_type": "execute_result"
    }
   ],
   "source": [
    "avg_revenue = df.groupby('certification')['revenue'].mean() *.000001\n",
    "avg_revenue"
   ]
  },
  {
   "cell_type": "code",
   "execution_count": 130,
   "id": "c2b2bd01-3224-498f-9d8f-51ebcc72666f",
   "metadata": {},
   "outputs": [
    {
     "data": {
      "text/plain": [
       "Text(0.5, 1.0, 'Avg Revenue by Certification')"
      ]
     },
     "execution_count": 130,
     "metadata": {},
     "output_type": "execute_result"
    },
    {
     "data": {
      "image/png": "[encoded data removed]",
      "text/plain": [
       "<Figure size 640x480 with 1 Axes>"
      ]
     },
     "metadata": {},
     "output_type": "display_data"
    }
   ],
   "source": [
    "ax = sns.barplot(data=df, x=avg_revenue.index, y=avg_revenue.values)\n",
    "ax.set_ylabel('Revenue in $ Millions')\n",
    "ax.set_xlabel('Certification')\n",
    "ax.set_title('Avg Revenue by Certification')"
   ]
  },
  {
   "cell_type": "markdown",
   "id": "d84289cd-eb2e-436d-9c38-d7919e0709ff",
   "metadata": {},
   "source": [
    "## What is the average budget per certification category?\n"
   ]
  },
  {
   "cell_type": "code",
   "execution_count": 132,
   "id": "cb55937a-860a-499c-82a4-0d2411b90c77",
   "metadata": {},
   "outputs": [
    {
     "data": {
      "text/plain": [
       "certification\n",
       "G        52.333333\n",
       "NR        4.175000\n",
       "PG       53.322222\n",
       "PG-13    42.681058\n",
       "R        26.250847\n",
       "Name: budget, dtype: float64"
      ]
     },
     "execution_count": 132,
     "metadata": {},
     "output_type": "execute_result"
    }
   ],
   "source": [
    "avg_budget = df.groupby('certification')['budget'].mean() *.000001\n",
    "avg_budget"
   ]
  },
  {
   "cell_type": "code",
   "execution_count": 134,
   "id": "80e6b4a1-a581-4b65-86b2-5863bb191022",
   "metadata": {},
   "outputs": [
    {
     "data": {
      "text/plain": [
       "Text(0.5, 1.0, 'Avg Budget by Certification')"
      ]
     },
     "execution_count": 134,
     "metadata": {},
     "output_type": "execute_result"
    },
    {
     "data": {
      "image/png": "[encoded data removed]",
      "text/plain": [
       "<Figure size 640x480 with 1 Axes>"
      ]
     },
     "metadata": {},
     "output_type": "display_data"
    }
   ],
   "source": [
    "ax = sns.barplot(data=df, x=avg_budget.index, y=avg_budget.values)\n",
    "ax.set_ylabel('Budget in $ Millions')\n",
    "ax.set_xlabel('Certification')\n",
    "ax.set_title('Avg Budget by Certification')"
   ]
  },
  {
   "cell_type": "code",
   "execution_count": null,
   "id": "2f34ce94-18c3-4bac-878a-2dbfaaadd4c1",
   "metadata": {},
   "outputs": [],
   "source": []
  }
 ],
 "metadata": {
  "kernelspec": {
   "display_name": "Python 3 (ipykernel)",
   "language": "python",
   "name": "python3"
  },
  "language_info": {
   "codemirror_mode": {
    "name": "ipython",
    "version": 3
   },
   "file_extension": ".py",
   "mimetype": "text/x-python",
   "name": "python",
   "nbconvert_exporter": "python",
   "pygments_lexer": "ipython3",
   "version": "3.10.10"
  },
  "widgets": {
   "application/vnd.jupyter.widget-state+json": {
    "state": {},
    "version_major": 2,
    "version_minor": 0
   }
  }
 },
 "nbformat": 4,
 "nbformat_minor": 5
}
